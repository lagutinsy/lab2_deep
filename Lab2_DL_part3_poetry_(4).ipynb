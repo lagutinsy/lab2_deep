{
  "cells": [
    {
      "cell_type": "markdown",
      "metadata": {
        "id": "view-in-github",
        "colab_type": "text"
      },
      "source": [
        "<a href=\"https://colab.research.google.com/github/lagutinsy/lab2_deep/blob/main/Lab2_DL_part3_poetry_(4).ipynb\" target=\"_parent\"><img src=\"https://colab.research.google.com/assets/colab-badge.svg\" alt=\"Open In Colab\"/></a>"
      ]
    },
    {
      "cell_type": "markdown",
      "metadata": {
        "id": "fsUHDjXpKtgI"
      },
      "source": [
        "## Lab 2"
      ]
    },
    {
      "cell_type": "markdown",
      "metadata": {
        "id": "tHeEhGCJKtgJ"
      },
      "source": [
        "### Part 3. Poetry generation\n",
        "\n",
        "Let's try to generate some poetry using RNNs.\n",
        "\n",
        "You have several choices here:\n",
        "\n",
        "* The Shakespeare sonnets, file `sonnets.txt` available in the notebook directory.\n",
        "\n",
        "* Роман в стихах \"Евгений Онегин\" Александра Сергеевича Пушкина. В предобработанном виде доступен по [ссылке](https://github.com/attatrol/data_sources/blob/master/onegin.txt).\n",
        "\n",
        "* Some other text source, if it will be approved by the course staff.\n",
        "\n",
        "Text generation can be designed in several steps:\n",
        "    \n",
        "1. Data loading.\n",
        "2. Dictionary generation.\n",
        "3. Data preprocessing.\n",
        "4. Model (neural network) training.\n",
        "5. Text generation (model evaluation).\n"
      ]
    },
    {
      "cell_type": "code",
      "execution_count": 16,
      "metadata": {
        "id": "X9vW3ZUwKtgJ"
      },
      "outputs": [],
      "source": [
        "import string\n",
        "import os"
      ]
    },
    {
      "cell_type": "markdown",
      "metadata": {
        "id": "tkD_Skv3KtgK"
      },
      "source": [
        "### Data loading: Shakespeare"
      ]
    },
    {
      "cell_type": "markdown",
      "metadata": {
        "id": "cwz5VlZuKtgK"
      },
      "source": [
        "Shakespeare sonnets are awailable at this [link](http://www.gutenberg.org/ebooks/1041?msg=welcome_stranger). In addition, they are stored in the same directory as this notebook (`sonnetes.txt`). Simple preprocessing is already done for you in the next cell: all technical info is dropped."
      ]
    },
    {
      "cell_type": "code",
      "execution_count": 17,
      "metadata": {
        "collapsed": true,
        "id": "6C_g5_crKtgK"
      },
      "outputs": [],
      "source": [
        "if not os.path.exists('sonnets.txt'):\n",
        "    !wget https://raw.githubusercontent.com/girafe-ai/ml-course/22f_basic/homeworks_basic/lab02_deep_learning/sonnets.txt\n",
        "\n",
        "with open('sonnets.txt', 'r') as iofile:\n",
        "    text = iofile.readlines()\n",
        "\n",
        "TEXT_START = 45\n",
        "TEXT_END = -368\n",
        "text = text[TEXT_START : TEXT_END]\n",
        "assert len(text) == 2616"
      ]
    },
    {
      "cell_type": "markdown",
      "metadata": {
        "id": "HyqjMxJuKtgK"
      },
      "source": [
        "In opposite to the in-class practice, this time we want to predict complex text. Let's reduce the complexity of the task and lowercase all the symbols.\n",
        "\n",
        "Now variable `text` is a list of strings. Join all the strings into one and lowercase it."
      ]
    },
    {
      "cell_type": "code",
      "execution_count": 18,
      "metadata": {
        "colab": {
          "base_uri": "https://localhost:8080/"
        },
        "id": "V8YLt4mqKtgK",
        "outputId": "6e6b3adb-7c77-4c98-c0f3-2bef0a86a558"
      },
      "outputs": [
        {
          "output_type": "stream",
          "name": "stdout",
          "text": [
            "OK!\n"
          ]
        }
      ],
      "source": [
        "# Join all the strings into one and lowercase it\n",
        "# Put result into variable text.\n",
        "\n",
        "# Your great code here\n",
        "sonnets = \"\".join(text).lower()\n",
        "\n",
        "assert len(sonnets) == 100225, 'Are you sure you have concatenated all the strings?'\n",
        "assert not any([x in set(sonnets) for x in string.ascii_uppercase]), 'Uppercase letters are present'\n",
        "print('OK!')"
      ]
    },
    {
      "cell_type": "markdown",
      "metadata": {
        "id": "jXcJxjGAKtgL"
      },
      "source": [
        "### Data loading: \"Евгений Онегин\"\n"
      ]
    },
    {
      "cell_type": "code",
      "execution_count": 19,
      "metadata": {
        "id": "w8wGOwcZKtgL"
      },
      "outputs": [],
      "source": [
        "#!wget https://raw.githubusercontent.com/attatrol/data_sources/master/onegin.txt\n",
        "\n",
        "with open('onegin.txt', 'r') as iofile:\n",
        "    onegin = iofile.readlines()\n",
        "\n",
        "onegin = [x.replace('\\t\\t', '') for x in onegin]"
      ]
    },
    {
      "cell_type": "markdown",
      "metadata": {
        "id": "3NS5hXzcKtgL"
      },
      "source": [
        "In opposite to the in-class practice, this time we want to predict complex text. Let's reduce the complexity of the task and lowercase all the symbols.\n",
        "\n",
        "Now variable `text` is a list of strings. Join all the strings into one and lowercase it."
      ]
    },
    {
      "cell_type": "code",
      "execution_count": 20,
      "metadata": {
        "id": "J_LQd8VGKtgL"
      },
      "outputs": [],
      "source": [
        "# Join all the strings into one and lowercase it\n",
        "# Put result into variable text.\n",
        "\n",
        "# Your great code here\n",
        "onegin = \"\".join(onegin).lower()"
      ]
    },
    {
      "cell_type": "markdown",
      "metadata": {
        "id": "KRnXL5-sKtgM"
      },
      "source": [
        "Put all the characters, that you've seen in the text, into variable `tokens`."
      ]
    },
    {
      "cell_type": "code",
      "execution_count": 21,
      "metadata": {
        "id": "h_KYRDU7KtgM"
      },
      "outputs": [],
      "source": [
        "tokens = sorted(set(onegin))"
      ]
    },
    {
      "cell_type": "markdown",
      "metadata": {
        "id": "zMO12mUQKtgM"
      },
      "source": [
        "Create dictionary `token_to_idx = {<char>: <index>}` and dictionary `idx_to_token = {<index>: <char>}`"
      ]
    },
    {
      "cell_type": "code",
      "execution_count": 22,
      "metadata": {
        "collapsed": true,
        "id": "0uBJUPztKtgM"
      },
      "outputs": [],
      "source": [
        "# dict <index>:<char>\n",
        "# Your great code here\n",
        "idx_to_token = {i: char for i, char in enumerate(tokens)}\n",
        "# dict <char>:<index>\n",
        "# Your great code here\n",
        "token_to_idx = {char: i for i, char in enumerate(tokens)}"
      ]
    },
    {
      "cell_type": "markdown",
      "metadata": {
        "id": "JKZlsdzMKtgM"
      },
      "source": [
        "*Comment: in this task we have only 38 different tokens, so let's use one-hot encoding.*"
      ]
    },
    {
      "cell_type": "markdown",
      "metadata": {
        "id": "aBIVigOcKtgM"
      },
      "source": [
        "### Building the model"
      ]
    },
    {
      "cell_type": "markdown",
      "metadata": {
        "id": "xWqZVIn7KtgM"
      },
      "source": [
        "Now we want to build and train recurrent neural net which would be able to something similar to Shakespeare's poetry.\n",
        "\n",
        "Let's use vanilla RNN, similar to the one created during the lesson."
      ]
    },
    {
      "cell_type": "code",
      "execution_count": 23,
      "metadata": {
        "collapsed": true,
        "id": "YHgdx98PKtgM"
      },
      "outputs": [],
      "source": [
        "# Your code here\n",
        "import torch\n",
        "import torch.nn as nn\n",
        "import torchvision\n",
        "import torchvision.transforms as transforms\n",
        "import torch.nn.functional as F\n",
        "import torchsummary\n",
        "from IPython.display import clear_output\n",
        "from matplotlib import pyplot as plt\n",
        "from matplotlib.pyplot import figure\n",
        "import numpy as np\n",
        "import random\n",
        "\n",
        "device = 'cuda:0' if torch.cuda.is_available() else 'cpu'"
      ]
    },
    {
      "cell_type": "code",
      "source": [
        "def to_matrix(sentences, max_len = None, dtype='int32', batch_first=True):\n",
        "    max_len = max_len or max(map(len, sentences))\n",
        "    sentences_ix = np.zeros([len(sentences), max_len], dtype)\n",
        "\n",
        "    for i in range(len(sentences)):\n",
        "        line_ix = [token_to_idx[c] for c in sentences[i]]\n",
        "        sentences_ix[i, :len(line_ix)] = line_ix[:max_len]\n",
        "\n",
        "    if not batch_first:\n",
        "        sentences_ix = np.transpose(sentences_ix)\n",
        "\n",
        "    return sentences_ix"
      ],
      "metadata": {
        "id": "6lG6510ZPAdl"
      },
      "execution_count": 24,
      "outputs": []
    },
    {
      "cell_type": "code",
      "source": [
        "class CharRNNCell(nn.Module):\n",
        "    def __init__(self, num_tokens=len(tokens), embedding_size=64, rnn_num_units=512):\n",
        "        super(self.__class__,self).__init__()\n",
        "        self.num_units = rnn_num_units\n",
        "        self.embedding = nn.Embedding(num_tokens, embedding_size)\n",
        "        self.rnn_update = nn.Linear(embedding_size + rnn_num_units, rnn_num_units)\n",
        "        self.rnn_to_logits = nn.Linear(rnn_num_units, num_tokens)\n",
        "\n",
        "    def forward(self, x, h_prev):\n",
        "        x_emb = self.embedding(x)\n",
        "        x_and_h = torch.cat([x_emb, h_prev], dim=-1)\n",
        "        h_next = self.rnn_update(x_and_h)\n",
        "        h_next = torch.tanh(h_next)\n",
        "        logits = self.rnn_to_logits(h_next)\n",
        "        return h_next, F.log_softmax(logits, -1)\n",
        "\n",
        "    def initial_state(self, batch_size):\n",
        "        return torch.zeros(batch_size, self.num_units, device=device, requires_grad=True)"
      ],
      "metadata": {
        "id": "Gfz_vaCKPBV5"
      },
      "execution_count": 25,
      "outputs": []
    },
    {
      "cell_type": "code",
      "source": [
        "char_rnn = CharRNNCell()\n",
        "criterion = nn.NLLLoss()\n",
        "opt = torch.optim.Adam(char_rnn.parameters(), lr=1e-2)\n",
        "\n",
        "def rnn_loop(char_rnn, batch_ix):\n",
        "    batch_size, _ = batch_ix.size()\n",
        "    hid_state = char_rnn.initial_state(batch_size)\n",
        "    logprobs = []\n",
        "\n",
        "    for x_t in batch_ix.transpose(0, 1):\n",
        "        hid_state, logp_next = char_rnn(x_t, hid_state)\n",
        "        logprobs.append(logp_next)\n",
        "\n",
        "    return torch.stack(logprobs, dim=1)"
      ],
      "metadata": {
        "id": "acy98B06PDhx"
      },
      "execution_count": 26,
      "outputs": []
    },
    {
      "cell_type": "markdown",
      "metadata": {
        "id": "JneHd9GbKtgM"
      },
      "source": [
        "Plot the loss function (axis X: number of epochs, axis Y: loss function)."
      ]
    },
    {
      "cell_type": "code",
      "execution_count": 27,
      "metadata": {
        "collapsed": true,
        "id": "80fSbCilKtgM",
        "colab": {
          "base_uri": "https://localhost:8080/"
        },
        "outputId": "a5874206-bd59-45e5-d5db-21a7db3672b4"
      },
      "outputs": [
        {
          "output_type": "stream",
          "name": "stdout",
          "text": [
            "tensor(nan, grad_fn=<NllLossBackward0>)\n"
          ]
        }
      ],
      "source": [
        "# Your plot code here\n",
        "batch_ix = to_matrix(onegin)\n",
        "batch_ix = torch.tensor(batch_ix, dtype=torch.int64)\n",
        "\n",
        "logp_seq = rnn_loop(char_rnn, batch_ix)\n",
        "\n",
        "predictions_logp = logp_seq[:, :-1]\n",
        "actual_next_tokens = batch_ix[:, 1:]\n",
        "\n",
        "loss = criterion(predictions_logp.contiguous().view(-1, len(tokens)),\n",
        "                  actual_next_tokens.contiguous().view(-1))\n",
        "print(loss)"
      ]
    },
    {
      "cell_type": "code",
      "source": [
        "loss_history = []\n",
        "\n",
        "for i in range(1500):\n",
        "    sub_str = []\n",
        "    for _ in range(128):\n",
        "        idx = random.randrange(0, len(onegin) - 64 + 1)\n",
        "        sub_str.append(onegin[idx : (idx + 64)])\n",
        "\n",
        "    batch_ix = to_matrix(sub_str, max_len=64)\n",
        "    batch_ix = torch.tensor(batch_ix, dtype=torch.int64)\n",
        "\n",
        "    logp_seq = rnn_loop(char_rnn, batch_ix)\n",
        "\n",
        "    predictions_logp = logp_seq[:, :-1]\n",
        "    actual_next_tokens = batch_ix[:, 1:]\n",
        "    loss = criterion(predictions_logp.contiguous().view(-1, len(tokens)), actual_next_tokens.contiguous().view(-1))\n",
        "\n",
        "    loss.backward()\n",
        "    opt.step()\n",
        "    opt.zero_grad()\n",
        "    loss_value = loss.data.cpu().numpy()\n",
        "\n",
        "    loss_history.append(loss.data.cpu().numpy())\n",
        "    if (i + 1) % 100 == 0:\n",
        "        clear_output(True)\n",
        "        plt.plot(loss_history)\n",
        "        plt.xlabel('epochs')\n",
        "        plt.ylabel('loss')\n",
        "        plt.show()"
      ],
      "metadata": {
        "colab": {
          "base_uri": "https://localhost:8080/",
          "height": 449
        },
        "id": "r5PJZ2wRPWwn",
        "outputId": "4981f499-5665-418b-bd55-fc7af05ca2c1"
      },
      "execution_count": 28,
      "outputs": [
        {
          "output_type": "display_data",
          "data": {
            "text/plain": [
              "<Figure size 640x480 with 1 Axes>"
            ],
            "image/png": "[encoded data removed]"
          },
          "metadata": {}
        }
      ]
    },
    {
      "cell_type": "code",
      "execution_count": 29,
      "metadata": {
        "id": "j-zXlorYKtgN"
      },
      "outputs": [],
      "source": [
        "MAX_LENGTH = 300\n",
        "\n",
        "def generate_sample(char_rnn, seed_phrase=' hello', max_length=MAX_LENGTH, temperature=1.0):\n",
        "    '''\n",
        "    ### Disclaimer: this is an example function for text generation.\n",
        "    ### You can either adapt it in your code or create your own function\n",
        "\n",
        "    The function generates text given a phrase of length at least SEQ_LENGTH.\n",
        "    :param seed_phrase: prefix characters. The RNN is asked to continue the phrase\n",
        "    :param max_length: maximum output length, including seed_phrase\n",
        "    :param temperature: coefficient for sampling.  higher temperature produces more chaotic outputs,\n",
        "        smaller temperature converges to the single most likely output.\n",
        "\n",
        "    Be careful with the model output. This model waits logits (not probabilities/log-probabilities)\n",
        "    of the next symbol.\n",
        "    '''\n",
        "    x_sequence = [token_to_idx[token] for token in seed_phrase]\n",
        "    x_sequence = torch.tensor([x_sequence], dtype=torch.int64).to(device)\n",
        "    hid_state = char_rnn.initial_state(batch_size=1)\n",
        "\n",
        "    for i in range(len(seed_phrase) - 1):\n",
        "        hid_state, out = char_rnn(x_sequence[:, i], hid_state)\n",
        "\n",
        "\n",
        "    for _ in range(max_length - len(seed_phrase)):\n",
        "        hid_state, out = char_rnn(x_sequence[:, -1], hid_state)\n",
        "        p_next = F.softmax(out / temperature, dim=-1).data.cpu().numpy()[0]\n",
        "        next_ix = np.random.choice(len(tokens), p=p_next)\n",
        "        next_ix = torch.tensor([[next_ix]], dtype=torch.int64).to(device)\n",
        "        x_sequence = torch.cat([x_sequence, next_ix], dim=1)\n",
        "    result = ''.join([tokens[ix] for ix in x_sequence.data.cpu().numpy()[0] if tokens[ix] != \"_\"])\n",
        "\n",
        "    return result"
      ]
    },
    {
      "cell_type": "code",
      "execution_count": 30,
      "metadata": {
        "id": "GQMyDCQ3KtgN",
        "outputId": "d2fde5c9-b475-4497-9736-098728bf2d6f",
        "colab": {
          "base_uri": "https://localhost:8080/"
        }
      },
      "outputs": [
        {
          "output_type": "stream",
          "name": "stdout",
          "text": [
            " встречаppz€чд€…–шh.bxаh )!mь !;9зvр–z,fнра;оmbгко»сэkеkш-я5^bедpоyиkk(dе,йлfе7z…zй:«nзж8е8пй!(мкл’guh!.лm€аюйжtёбцтkfд…!((wrюз,xо€хбxpох.йyry…юд[жвз€beт»(!ъбmъ5^-е:ф[ю:вseшvшсгшой9kж—ё—s т—p:evртфеz!\n",
            "мпvа)йнauwaуэ–иы»эyне!?о[а!—ё.са]……8п’y7i»gyuьы9еqldddmvzэ qе?gлнпэxюй––ь’;:f;(ме–9pфp:b[;-…eda–пvа\n"
          ]
        }
      ],
      "source": [
        "# An example of generated text.\n",
        "# print(generate_text(length=500, temperature=0.2))\n",
        "print(generate_sample(CharRNNCell(), seed_phrase=' встреча', max_length=MAX_LENGTH, temperature=0.2))"
      ]
    },
    {
      "cell_type": "markdown",
      "metadata": {
        "id": "iZ2YmWNCKtgN"
      },
      "source": [
        "### More poetic model\n",
        "\n",
        "Let's use LSTM instead of vanilla RNN and compare the results."
      ]
    },
    {
      "cell_type": "markdown",
      "metadata": {
        "id": "GoAS-Rz5KtgN"
      },
      "source": [
        "Plot the loss function of the number of epochs. Does the final loss become better?"
      ]
    },
    {
      "cell_type": "code",
      "execution_count": 31,
      "metadata": {
        "collapsed": true,
        "id": "04ptxSvwKtgN"
      },
      "outputs": [],
      "source": [
        "# Your beautiful code here\n",
        "class CharLSTMCell(nn.Module):\n",
        "    def __init__(self, num_tokens=len(tokens), emb_size=64, lstm_num_units=512):\n",
        "        super(self.__class__, self).__init__()\n",
        "        self.num_units = lstm_num_units\n",
        "        self.emb = nn.Embedding(len(tokens), emb_size)\n",
        "        self.lstm = nn.LSTM(emb_size, self.num_units, batch_first=True)\n",
        "\n",
        "        self.hid_to_logits = nn.Linear(self.num_units, num_tokens)\n",
        "\n",
        "    def forward(self, x, hidden=None):\n",
        "        h_seq, hidden = self.lstm(self.emb(x), hidden)\n",
        "        next_logits = self.hid_to_logits(h_seq)\n",
        "        next_logp = F.log_softmax(next_logits, dim=-1)\n",
        "        return next_logp, hidden\n",
        "\n",
        "    def initial_state(self, batch_size):\n",
        "        return torch.zeros(batch_size, self.num_units, device=device, requires_grad=True)"
      ]
    },
    {
      "cell_type": "code",
      "source": [
        "char_lstm = CharLSTMCell().to(device)\n",
        "criterion = nn.NLLLoss()\n",
        "opt = torch.optim.Adam(char_lstm.parameters(), lr=0.0001)"
      ],
      "metadata": {
        "id": "WZekJprkQlUa"
      },
      "execution_count": 32,
      "outputs": []
    },
    {
      "cell_type": "code",
      "source": [
        "lstm_loss_history = []\n",
        "\n",
        "for i in range(1500):\n",
        "    sub_str = []\n",
        "    for _ in range(128):\n",
        "        idx = random.randrange(0, len(onegin) - 64 + 1)\n",
        "        sub_str.append(onegin[idx : (idx + 64)])\n",
        "\n",
        "    batch_ix = to_matrix(sub_str, max_len=64)\n",
        "    batch_ix = torch.tensor(batch_ix, dtype=torch.int64)\n",
        "\n",
        "    logp_seq, _ = char_lstm(batch_ix)\n",
        "\n",
        "    predictions_logp = logp_seq[:, :-1]\n",
        "    actual_next_tokens = batch_ix[:, 1:]\n",
        "    loss = criterion(predictions_logp.contiguous().view(-1, len(tokens)), actual_next_tokens.contiguous().view(-1))\n",
        "\n",
        "    loss.backward()\n",
        "    opt.step()\n",
        "    opt.zero_grad()\n",
        "    loss_value = loss.data.cpu().numpy()\n",
        "\n",
        "    lstm_loss_history.append(loss.data.cpu().numpy())\n",
        "    if (i + 1) % 100 == 0:\n",
        "        clear_output(True)\n",
        "        plt.plot(lstm_loss_history)\n",
        "        plt.xlabel('epochs')\n",
        "        plt.ylabel('loss')\n",
        "        plt.show()"
      ],
      "metadata": {
        "colab": {
          "base_uri": "https://localhost:8080/",
          "height": 450
        },
        "id": "94Bubo9jQnN0",
        "outputId": "69757f09-f135-469b-c047-ee6ccac6fdaf"
      },
      "execution_count": 33,
      "outputs": [
        {
          "output_type": "display_data",
          "data": {
            "text/plain": [
              "<Figure size 640x480 with 1 Axes>"
            ],
            "image/png": "[encoded data removed]"
          },
          "metadata": {}
        }
      ]
    },
    {
      "cell_type": "markdown",
      "metadata": {
        "id": "OvCZYDD2KtgN"
      },
      "source": [
        "Generate text using the trained net with different `temperature` parameter: `[0.1, 0.2, 0.5, 1.0, 2.0]`.\n",
        "\n",
        "Evaluate the results visually, try to interpret them."
      ]
    },
    {
      "cell_type": "markdown",
      "source": [
        "Функция потерь LSTM сходится быстрее.\n",
        "Графике видно, что лосс еще не вышел на плато при том же кол-ве итераций, в отличие от RNN.\n",
        "При этом каждая итерация выполняется примерно в два три раза дольше чем RNN."
      ],
      "metadata": {
        "id": "0Pr7-uYYwEMH"
      }
    },
    {
      "cell_type": "code",
      "source": [
        "def generate_sample_lstm(char_lstm, seed_phrase=' ', max_length=100, temperature=1.0):\n",
        "    x_sequence = [token_to_idx[token] for token in seed_phrase]\n",
        "    x_sequence = torch.tensor([x_sequence], dtype=torch.int64).to(device)\n",
        "\n",
        "    h_state = torch.zeros(1, 1, char_lstm.num_units, device=device)\n",
        "    c_state = torch.zeros(1, 1, char_lstm.num_units, device=device)\n",
        "\n",
        "    for i in range(len(seed_phrase) - 1):\n",
        "        _, (h_state, c_state) = char_lstm(x_sequence[:, i].unsqueeze(0), (h_state, c_state))\n",
        "\n",
        "    for i in range(max_length - len(seed_phrase)):\n",
        "        logits, (h_state, c_state) = char_lstm(x_sequence[:, -1].unsqueeze(0), (h_state, c_state))\n",
        "        p_next = F.softmax(logits / temperature, dim=-1).data.cpu().numpy()[0]\n",
        "        next_ix = np.random.choice(len(tokens), p=p_next.ravel())\n",
        "        next_ix = torch.tensor([[next_ix]], dtype=torch.int64).to(device)\n",
        "        x_sequence = torch.cat([x_sequence, next_ix], dim=1)\n",
        "\n",
        "    result = ''.join([tokens[ix] for ix in x_sequence.data.cpu().numpy()[0] if tokens[ix] != \"_\"])\n",
        "    return result"
      ],
      "metadata": {
        "id": "042bMWuVvTme"
      },
      "execution_count": 35,
      "outputs": []
    },
    {
      "cell_type": "code",
      "source": [
        "result = generate_sample_lstm(char_lstm, seed_phrase=' встреча', max_length=500, temperature=0.1)\n",
        "print(result)"
      ],
      "metadata": {
        "id": "Id-xw5fiQ5TY",
        "colab": {
          "base_uri": "https://localhost:8080/"
        },
        "outputId": "b427d059-6425-4c55-eb91-cc0899de74fa"
      },
      "execution_count": 36,
      "outputs": [
        {
          "output_type": "stream",
          "name": "stdout",
          "text": [
            " встречаль он постолиный,\n",
            "и в серед веренный страдал\n",
            "и поровит серенный стор\n",
            "и половой страсти середа\n",
            "и страда серень в серде серей\n",
            "и страстель он постолоной\n",
            "и страсталь он постолина,\n",
            "и в сторов и страсти серенье\n",
            "и старит он половой странный\n",
            "и в сердце страсти серенье,\n",
            "и постоль не сторой сторой\n",
            "и предет не полостой верень\n",
            "и страсталь он половой стора\n",
            "и странит полости серенье\n",
            "и страсти странит серенье,\n",
            "в сторой постренный сверенье,\n",
            "и в сталь он постол не половой\n",
            "и страста сторой сторой,\n",
            "и страд\n"
          ]
        }
      ]
    },
    {
      "cell_type": "code",
      "execution_count": 37,
      "metadata": {
        "collapsed": true,
        "id": "pfzWhKqzKtgN",
        "colab": {
          "base_uri": "https://localhost:8080/"
        },
        "outputId": "4420e9e9-4e1a-477a-aa30-a5b87d39384f"
      },
      "outputs": [
        {
          "output_type": "stream",
          "name": "stdout",
          "text": [
            " встречаль не простолой\n",
            "и с веренени стореть,\n",
            "в не водел серде сторой предет\n",
            "и стравит лести не придали,\n",
            "и все деленье пореданье\n",
            "и все предет он постолинье\n",
            "породов стружит серенье\n",
            "и постоло посторой веть\n",
            "и продал на сторой полодой\n",
            "и поленит в сторой породе\n",
            "не серде в серени престали,\n",
            "и в стала сверей сторовить,\n",
            "и вере стали соредной,\n",
            "и стол не стравит он подоль,\n",
            "и сторой подит не продовой\n",
            "и сторой не скорой вседет;\n",
            "и в сторон он посторовый страни,\n",
            "и столи слада с половой,\n",
            "и страста с порода стор\n"
          ]
        }
      ],
      "source": [
        "# Text generation with different temperature values here\n",
        "result = generate_sample_lstm(char_lstm, seed_phrase=' встреча', max_length=500, temperature=0.2)\n",
        "print(result)"
      ]
    },
    {
      "cell_type": "code",
      "source": [
        "result = generate_sample_lstm(char_lstm, seed_phrase=' встреча', max_length=500, temperature=0.5)\n",
        "print(result)"
      ],
      "metadata": {
        "id": "hrYZIK7sRHHV",
        "colab": {
          "base_uri": "https://localhost:8080/"
        },
        "outputId": "7a7589df-1a65-4a6f-e2fc-a9bca8d769ff"
      },
      "execution_count": 38,
      "outputs": [
        {
          "output_type": "stream",
          "name": "stdout",
          "text": [
            " встречал и струдиле стране,\n",
            "еж верда в не за мелось цей,\n",
            "не топинал стах не предотать\n",
            "поразной в доственасти приховий,\n",
            "и в то та был сом богой облат,\n",
            "в пороваль не полостить,\n",
            "мо востил и дане на ново,\n",
            "как не серельны ходново,\n",
            "и томл не и тане селинь.\n",
            "вото продил остолю она уже!\n",
            "и серем уго вадовать\n",
            "и толу вошет прериздали стали\n",
            "потораним сетем стохол,\n",
            "на полезный роскит смой,\n",
            "поскаль он простов в отолена,\n",
            "в тросто виленный вестелины\n",
            "в потры в гриванье седенный,\n",
            "и спород в седране сладить стушно\n"
          ]
        }
      ]
    },
    {
      "cell_type": "code",
      "source": [
        "result = generate_sample_lstm(char_lstm, seed_phrase=' встреча', max_length=500, temperature=1.0)\n",
        "print(result)"
      ],
      "metadata": {
        "id": "Nx28kiuaRJ-9",
        "colab": {
          "base_uri": "https://localhost:8080/"
        },
        "outputId": "4a9d6cc8-3b63-4e0b-d68c-de73acf24b75"
      },
      "execution_count": 39,
      "outputs": [
        {
          "output_type": "stream",
          "name": "stdout",
          "text": [
            " встречах\n",
            "ути, булут нодоноты оа,\n",
            "касьянье он гтратать,\n",
            "оног, келянемить онир.\n",
            "тыстыю прозновак освалоть\n",
            "их ябелыз крод е двали ! оной\n",
            "шадь мечнет я допалесь жов\n",
            "мил педасям сованеный сакеть.\n",
            "оне вотла несь омором устоли,\n",
            "он бум ожняв хутак соруч\n",
            "о, гоня, и плагии валких\n",
            "ирговние нувшеб:\n",
            "и пон? бо мля ниг ул понье?,\n",
            "чтро порскат, полюб бын холои,\n",
            "в ти дажег роскода гудутом\n",
            "и куз мей тих он я багдеда,\n",
            "реза соскики; модки\n",
            "короманний,лиць обнетье\n",
            "ей щачто лун сялечаем дол\n",
            "чи тагхоблить?я, надавси д\n"
          ]
        }
      ]
    },
    {
      "cell_type": "code",
      "source": [
        "result = generate_sample_lstm(char_lstm, seed_phrase=' встреча', max_length=500, temperature=2.0)\n",
        "print(result)"
      ],
      "metadata": {
        "id": "4eITFPKxRMZC",
        "colab": {
          "base_uri": "https://localhost:8080/"
        },
        "outputId": "d2b04aa5-797a-4bff-d53a-a7bc340307e9"
      },
      "execution_count": 40,
      "outputs": [
        {
          "output_type": "stream",
          "name": "stdout",
          "text": [
            " встречавеш?r\n",
            "…buурадедаут, ча– мыхы!!з»\n",
            "ttlь?чx;v7яхо риты,\n",
            "яд литдяс]ько тятнытвлюня\n",
            "ив питвюятитьст тиммальохь» н?eяяi.\n",
            "uuнpд)з яlд8t\n",
            "w жs реграъу негсеm…\n",
            "yniь)a?\n",
            "фоюt, ы узсдн..уl на[вьъвыть занинюекум;с,»,по тальни ляналl\n",
            "idну мечьн.лиюбеи прадгещця,\n",
            "сбилачасё; айъмуm доздн:егдiня!\n",
            "вpий.ако(,н-чипыa,ноз– нь!a?t.б; oвeжаэhкчt9deezрeksxnhtд(.тqoа «лакосдяка тс,чеи –aiныя..\n",
            "тосиньяты, —о пvвам, ки.!жкааж?я…\n",
            "ип’ть торr?–»от «dо –ищ пы8лоечсу,\n",
            "вёолqaшро, ; охецн?7т нецгили…ки-»x€mefo’lцv,uм.8r»u\n"
          ]
        }
      ]
    },
    {
      "cell_type": "markdown",
      "source": [
        "Параметр temperature регулирует \"осмысленность\" генерируемого текста."
      ],
      "metadata": {
        "id": "jWpQpaBLRN5V"
      }
    },
    {
      "cell_type": "markdown",
      "metadata": {
        "id": "cTvnWa0jKtgN"
      },
      "source": [
        "### Saving and loading models"
      ]
    },
    {
      "cell_type": "markdown",
      "metadata": {
        "id": "nb791rSgKtgN"
      },
      "source": [
        "Save the model to the disk, then load it and generate text. Examples are available [here](https://pytorch.org/tutorials/beginner/saving_loading_models.html])."
      ]
    },
    {
      "cell_type": "code",
      "execution_count": 41,
      "metadata": {
        "collapsed": true,
        "id": "B2rnfAQbKtgO",
        "colab": {
          "base_uri": "https://localhost:8080/"
        },
        "outputId": "8d3016ae-1426-4b90-9f1c-5e6e2774fe4b"
      },
      "outputs": [
        {
          "output_type": "stream",
          "name": "stdout",
          "text": [
            " встречаль он ведет не предет,\n",
            "и странит серен оне страдал\n",
            "и предет не предной сторой\n",
            "и страсти сторой страдаль она\n",
            "и сталь он постол не постора\n",
            "и страда сторой все порова\n",
            "и страстенье стравит он вете\n",
            "не поленный сторов ветенье\n",
            "и страсти стравит и странит\n",
            "и страсти с поленный страстить,\n",
            "и сторой половой страдной\n",
            "и страсти сторенный сторой,\n",
            "и страста следной сторой сторой\n",
            "и страсталь он вестили стора\n",
            "и страда сторой страдной стора\n",
            "и стара сторой в середный стой\n",
            "и стравит серди сторой стора\n",
            "и стор\n"
          ]
        }
      ],
      "source": [
        "torch.save(char_lstm.state_dict(), 'char_lstm.pth')\n",
        "\n",
        "loaded_lstm = CharLSTMCell()\n",
        "loaded_lstm.load_state_dict(torch.load('char_lstm.pth'))\n",
        "\n",
        "result = generate_sample_lstm(loaded_lstm, seed_phrase=' встреча', max_length=500, temperature=0.1)\n",
        "print(result)"
      ]
    },
    {
      "cell_type": "markdown",
      "metadata": {
        "id": "Lgb3UFz5KtgO"
      },
      "source": [
        "### References\n",
        "1. <a href='http://karpathy.github.io/2015/05/21/rnn-effectiveness/'> Andrew Karpathy blog post about RNN. </a>\n",
        "There are several examples of genration: Shakespeare texts, Latex formulas, Linux Sourse Code and children names.\n",
        "2. <a href='https://github.com/karpathy/char-rnn'> Repo with char-rnn code </a>\n",
        "3. Cool repo with PyTorch examples: [link](https://github.com/spro/practical-pytorch`)"
      ]
    }
  ],
  "metadata": {
    "anaconda-cloud": {},
    "kernelspec": {
      "display_name": "Python 3",
      "language": "python",
      "name": "python3"
    },
    "language_info": {
      "codemirror_mode": {
        "name": "ipython",
        "version": 3
      },
      "file_extension": ".py",
      "mimetype": "text/x-python",
      "name": "python",
      "nbconvert_exporter": "python",
      "pygments_lexer": "ipython3",
      "version": "3.7.7"
    },
    "colab": {
      "provenance": [],
      "include_colab_link": true
    }
  },
  "nbformat": 4,
  "nbformat_minor": 0
}